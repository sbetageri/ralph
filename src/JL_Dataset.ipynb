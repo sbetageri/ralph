{
 "cells": [
  {
   "cell_type": "markdown",
   "metadata": {},
   "source": [
    "## Aim is to obtain a dataset class"
   ]
  },
  {
   "cell_type": "code",
   "execution_count": 1,
   "metadata": {},
   "outputs": [],
   "source": [
    "import torch\n",
    "import torch.nn as nn\n",
    "import torch.nn.functional as F\n",
    "\n",
    "import pandas as pd\n",
    "import numpy as np"
   ]
  },
  {
   "cell_type": "code",
   "execution_count": 9,
   "metadata": {},
   "outputs": [],
   "source": [
    "root_dir = '/home/sri/lip_reading/data/'\n",
    "clean_files_path = 'clean_files.csv'\n",
    "\n",
    "df = pd.read_csv(root_dir + clean_files_path)"
   ]
  },
  {
   "cell_type": "code",
   "execution_count": 10,
   "metadata": {},
   "outputs": [],
   "source": [
    "def get_files(root_dir, file_path, is_train = True):\n",
    "    '''\n",
    "    Get records for either train or test\n",
    "    '''\n",
    "    df = pd.read_csv(root_dir + file_path)\n",
    "    if is_train:\n",
    "        return df[df['is_train'] == 1]\n",
    "    else:\n",
    "        return df[df['is_train'] == 0]"
   ]
  },
  {
   "cell_type": "code",
   "execution_count": 12,
   "metadata": {},
   "outputs": [],
   "source": [
    "t_df = get_files(root_dir, clean_files_path, is_train=True)"
   ]
  },
  {
   "cell_type": "code",
   "execution_count": 32,
   "metadata": {},
   "outputs": [],
   "source": [
    "a = t_df.iloc[9]"
   ]
  },
  {
   "cell_type": "code",
   "execution_count": 35,
   "metadata": {},
   "outputs": [
    {
     "data": {
      "text/plain": [
       "id                                                   14\n",
       "mp4                train/trainval/ywgdCrcx6oM/50001.mp4\n",
       "mp3                train/trainval/ywgdCrcx6oM/50001.mp3\n",
       "txt                train/trainval/ywgdCrcx6oM/50001.txt\n",
       "mp4_new       xtrainval/xtrainval/ywgdCrcx6oM/50001.mp4\n",
       "frames                                               78\n",
       "resolution                                           90\n",
       "errors                                                0\n",
       "no_face                                               0\n",
       "no_pts                                                0\n",
       "less_pts                                              0\n",
       "verify_pts                                           51\n",
       "bad_bounds                                            0\n",
       "is_train                                              1\n",
       "Name: 9, dtype: object"
      ]
     },
     "execution_count": 35,
     "metadata": {},
     "output_type": "execute_result"
    }
   ],
   "source": [
    "a"
   ]
  },
  {
   "cell_type": "code",
   "execution_count": 36,
   "metadata": {},
   "outputs": [
    {
     "data": {
      "text/plain": [
       "'train/trainval/ywgdCrcx6oM/50001.mp4'"
      ]
     },
     "execution_count": 36,
     "metadata": {},
     "output_type": "execute_result"
    }
   ],
   "source": [
    "a['mp4']"
   ]
  },
  {
   "cell_type": "code",
   "execution_count": 37,
   "metadata": {},
   "outputs": [
    {
     "data": {
      "text/plain": [
       "'train/trainval/ywgdCrcx6oM/50001.mp3'"
      ]
     },
     "execution_count": 37,
     "metadata": {},
     "output_type": "execute_result"
    }
   ],
   "source": [
    "a['mp3']"
   ]
  },
  {
   "cell_type": "code",
   "execution_count": 38,
   "metadata": {},
   "outputs": [
    {
     "data": {
      "text/plain": [
       "'train/trainval/ywgdCrcx6oM/50001.txt'"
      ]
     },
     "execution_count": 38,
     "metadata": {},
     "output_type": "execute_result"
    }
   ],
   "source": [
    "a['txt']"
   ]
  },
  {
   "cell_type": "markdown",
   "metadata": {},
   "source": [
    "### A record describes a single datapoint. Each record consists of an mp4 file, mp3 file and the full text representation."
   ]
  },
  {
   "cell_type": "code",
   "execution_count": 25,
   "metadata": {},
   "outputs": [],
   "source": [
    "from torch.utils.data import Dataset"
   ]
  },
  {
   "cell_type": "code",
   "execution_count": 151,
   "metadata": {},
   "outputs": [],
   "source": [
    "import imageio\n",
    "from PIL import Image\n",
    "\n",
    "class LRWDataset(Dataset):\n",
    "    COL_MP4 = 'mp4'\n",
    "    COL_MP3 = 'mp3'\n",
    "    COL_TXT = 'txt'\n",
    "    \n",
    "    def __init__(self, root_dir, clean_files_path, is_train=True):\n",
    "        self.root_dir = root_dir\n",
    "        self.df = self._get_files(root_dir, clean_files_path, is_train)\n",
    "        \n",
    "    def __len__(self):\n",
    "        return len(self.df)\n",
    "        \n",
    "    def __getitem__(self, idx):\n",
    "        mp4, mp3, txt = self._get_records(idx)\n",
    "        \n",
    "        reversed_mp3 = self._get_reversed_mp3_as_tensor(self.root_dir + mp3)\n",
    "        reversed_txt = self._get_reversed_txt_as_tensor(self.root_dir + txt)\n",
    "        reversed_mp4 = self._get_reversed_frames_as_tensors(self.root_dir + mp4)\n",
    "        \n",
    "        return reversed_mp4, reversed_mp3, reversed_txt\n",
    "    \n",
    "    def _get_files(self, root_dir, file_path, is_train = True):\n",
    "        '''\n",
    "        Get records for either train or test\n",
    "        '''\n",
    "        df = pd.read_csv(root_dir + file_path)\n",
    "        if is_train:\n",
    "            return df[df['is_train'] == 1]\n",
    "        else:\n",
    "            return df[df['is_train'] == 0]\n",
    "    \n",
    "    def _get_records(self, idx):\n",
    "        record = df.iloc[idx]\n",
    "        mp4 = record[LRWDataset.COL_MP4]\n",
    "        mp3 = record[LRWDataset.COL_MP3]\n",
    "        txt = record[LRWDataset.COL_TXT]\n",
    "        \n",
    "        return mp4, mp3, txt\n",
    "    \n",
    "    def _get_reversed_mp3_as_tensor(self, mp3_path):\n",
    "        return mp3_path\n",
    "    \n",
    "    def _get_reversed_txt_as_tensor(self, txt_path):\n",
    "        return txt_path\n",
    "    \n",
    "    def _get_reversed_frames_as_tensors(self, mp4_file):\n",
    "        reader = imageio.get_reader(mp4_file)\n",
    "        reader = imageio.get_reader(mp4_file)\n",
    "        imgs = np.array(reader.get_data(0))\n",
    "        imgs = imgs.reshape(1, *imgs.shape)\n",
    "        count = reader.count_frames()\n",
    "        for i in range(1, count):\n",
    "            frame = np.array(reader.get_data(i))\n",
    "            frame = frame.reshape(1, *frame.shape)\n",
    "            imgs = np.vstack((imgs, frame))\n",
    "        frames = torch.from_numpy(imgs)\n",
    "        rev_frames = torch.flip(frames, [0])\n",
    "        return rev_frames"
   ]
  },
  {
   "cell_type": "code",
   "execution_count": 152,
   "metadata": {},
   "outputs": [],
   "source": [
    "dataset = LRWDataset(root_dir, clean_files_path, is_train=True)"
   ]
  },
  {
   "cell_type": "code",
   "execution_count": 153,
   "metadata": {},
   "outputs": [],
   "source": [
    "t_mp4 = dataset[18]"
   ]
  },
  {
   "cell_type": "code",
   "execution_count": 154,
   "metadata": {},
   "outputs": [
    {
     "data": {
      "text/plain": [
       "torch.Size([38, 224, 224, 3])"
      ]
     },
     "execution_count": 154,
     "metadata": {},
     "output_type": "execute_result"
    }
   ],
   "source": [
    "t_mp4[0].shape"
   ]
  }
 ],
 "metadata": {
  "kernelspec": {
   "display_name": "Python 3",
   "language": "python",
   "name": "python3"
  },
  "language_info": {
   "codemirror_mode": {
    "name": "ipython",
    "version": 3
   },
   "file_extension": ".py",
   "mimetype": "text/x-python",
   "name": "python",
   "nbconvert_exporter": "python",
   "pygments_lexer": "ipython3",
   "version": "3.7.3"
  }
 },
 "nbformat": 4,
 "nbformat_minor": 2
}
